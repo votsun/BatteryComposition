{
 "cells": [
  {
   "cell_type": "code",
   "execution_count": 2,
   "id": "b5fbc0a5-ebbd-46f5-afbb-6af77abb3bc8",
   "metadata": {},
   "outputs": [
    {
     "name": "stdout",
     "output_type": "stream",
     "text": [
      "All files imported successfully!\n"
     ]
    }
   ],
   "source": [
    "import random\n",
    "from qiskit import QuantumCircuit\n",
    "from qiskit.quantum_info import Statevector\n",
    "from qiskit.algorithms import AmplificationProblem\n",
    "from qiskit_ibm_runtime import Sampler\n",
    "from qiskit.tools.visualization import plot_histogram\n",
    "from qiskit import Aer\n",
    "from qiskit.utils import QuantumInstance\n",
    "from qiskit.algorithms import Grover\n",
    "print(\"All files imported successfully!\")"
   ]
  },
  {
   "cell_type": "code",
   "execution_count": 3,
   "id": "ebe385b2-3465-4332-bbfd-56d33aca7dcc",
   "metadata": {},
   "outputs": [],
   "source": [
    "desired_score = 10000000 # This is the highest score possible for any proposed composition.\n",
    "desired_score_string = format(desired_score, '040')"
   ]
  },
  {
   "cell_type": "code",
   "execution_count": 4,
   "id": "c9a22b1b-779a-4fa5-aac1-f97a08a44366",
   "metadata": {},
   "outputs": [
    {
     "name": "stdin",
     "output_type": "stream",
     "text": [
      "Enter a battery cell composition in the form 'electrolyte, cathode, anode' a, b, c\n",
      "Enter a score for that composition as an integer. 5555\n",
      "Would you like to enter a new composition? (yes/no) no\n"
     ]
    }
   ],
   "source": [
    "inp = \"\"\n",
    "score_list = []\n",
    "composition_list = []\n",
    "\n",
    "while inp != \"no\":\n",
    "    new_composition = input(\"Enter a battery cell composition in the form 'electrolyte, cathode, anode'\")\n",
    "    composition_list.append(new_composition)\n",
    "    new_score = int(input(\"Enter a score for that composition as an integer.\"))\n",
    "    score_list.append(new_score)\n",
    "    inp = input(\"Would you like to enter a new composition? (yes/no)\")"
   ]
  },
  {
   "cell_type": "code",
   "execution_count": 5,
   "id": "babbfa9b-41d1-493c-ab33-91d793b49f43",
   "metadata": {},
   "outputs": [
    {
     "data": {
      "image/png": "[encoded data removed]",
      "text/plain": [
       "<Figure size 413.842x84.28 with 1 Axes>"
      ]
     },
     "execution_count": 5,
     "metadata": {},
     "output_type": "execute_result"
    }
   ],
   "source": [
    "oracle = QuantumCircuit(len(score_list))\n",
    "problem = AmplificationProblem(oracle, is_good_state=desired_score_string)\n",
    "problem.grover_operator.decompose().draw(output='mpl')"
   ]
  },
  {
   "cell_type": "code",
   "execution_count": null,
   "id": "b295e38f-192d-460b-9652-9c97795b3bb0",
   "metadata": {},
   "outputs": [],
   "source": [
    "grover_circuits = []\n",
    "for iteration in range(1,10001):\n",
    "    grover = Grover(iterations=iteration)\n",
    "    circuit = grover.construct_circuit(problem)\n",
    "    circuit.measure_all()\n",
    "    grover_circuits.append(circuit)"
   ]
  },
  {
   "cell_type": "code",
   "execution_count": null,
   "id": "14f6035b-2172-4334-b5eb-fc8a95abe6c0",
   "metadata": {},
   "outputs": [],
   "source": []
  },
  {
   "cell_type": "code",
   "execution_count": null,
   "id": "0fbb093b-51c6-4aa7-b352-94db7cd7dff2",
   "metadata": {},
   "outputs": [],
   "source": []
  }
 ],
 "metadata": {
  "kernelspec": {
   "display_name": "Qiskit v0.35.0 (ipykernel)",
   "language": "python",
   "name": "python3"
  },
  "language_info": {
   "codemirror_mode": {
    "name": "ipython",
    "version": 3
   },
   "file_extension": ".py",
   "mimetype": "text/x-python",
   "name": "python",
   "nbconvert_exporter": "python",
   "pygments_lexer": "ipython3",
   "version": "3.8.13"
  },
  "widgets": {
   "application/vnd.jupyter.widget-state+json": {
    "state": {},
    "version_major": 2,
    "version_minor": 0
   }
  }
 },
 "nbformat": 4,
 "nbformat_minor": 5
}
